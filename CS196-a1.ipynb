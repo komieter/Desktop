{
 "cells": [
  {
   "cell_type": "code",
   "execution_count": 1,
   "metadata": {},
   "outputs": [],
   "source": [
    "class Dog:\n",
    "    \"\"\"\n",
    "    This is a class representing a dog \n",
    "    \"\"\"\n",
    "    def __init__(self, name, age, breed):\n",
    "        # bind the attributes to object\n",
    "        self.name = name\n",
    "        self.age = age\n",
    "        self.breed = breed\n",
    "        \n",
    "    def walk(self):\n",
    "        # method representing dog walking\n",
    "        print(f\"{self.name} is walking.\")\n",
    "        \n",
    "    def come(self):\n",
    "        # method representing dog coming\n",
    "        print(f\"{self.name} is coming.\")\n",
    "        \n",
    "    def sit(self):\n",
    "        # method representing dog sitting\n",
    "        print(f\"{self.name} is sitting.\")"
   ]
  },
  {
   "cell_type": "code",
   "execution_count": 2,
   "metadata": {},
   "outputs": [],
   "source": [
    "class Cat:\n",
    "    \"\"\"\n",
    "    This is a class representing a cat\n",
    "    \"\"\"\n",
    "    \n",
    "    def __init__(self, name, age, breed):\n",
    "        # bind the attributes to object\n",
    "        self.name = name\n",
    "        self.age = age\n",
    "        self.breed = breed\n",
    "        \n",
    "    def meow(self):\n",
    "        # method representing cat meow\n",
    "        print(f\"{self.name} says meow.\")\n",
    "        \n",
    "    def meander(self):\n",
    "        # method representing cat meander\n",
    "        print(f\"{self.name} lazily meanders over.\")\n",
    "        \n",
    "    def look(self):\n",
    "        # method representing cat looking\n",
    "        print(f\"{self.name} gives you a contemptuous look.\")"
   ]
  },
  {
   "cell_type": "code",
   "execution_count": 3,
   "metadata": {},
   "outputs": [],
   "source": [
    "#two different objects of class Dog\n",
    "dog1 = Dog('Flash', 6, 'American bulldog')\n",
    "dog2 = Dog('Scooby', 5, 'Australian Shepherd')"
   ]
  },
  {
   "cell_type": "code",
   "execution_count": 4,
   "metadata": {},
   "outputs": [],
   "source": [
    "#two different objects of class Cat\n",
    "cat1 = Cat('Divine', 3, 'Bengal Cat')\n",
    "cat2 = Cat('Lynxie', 4, 'Bombay Cat')"
   ]
  },
  {
   "cell_type": "code",
   "execution_count": 5,
   "metadata": {},
   "outputs": [
    {
     "name": "stdout",
     "output_type": "stream",
     "text": [
      "Flash is walking.\n",
      "Flash is coming.\n",
      "Flash is sitting.\n",
      "Scooby is walking.\n",
      "Scooby is coming.\n",
      "Scooby is sitting.\n",
      "Divine says meow.\n",
      "Divine lazily meanders over.\n",
      "Divine gives you a contemptuous look.\n",
      "Lynxie says meow.\n",
      "Lynxie lazily meanders over.\n",
      "Lynxie gives you a contemptuous look.\n"
     ]
    }
   ],
   "source": [
    "#call the methods with the objects created\n",
    "dog1.walk()\n",
    "dog1.come()\n",
    "dog1.sit()\n",
    "\n",
    "dog2.walk()\n",
    "dog2.come()\n",
    "dog2.sit()\n",
    "\n",
    "cat1.meow()\n",
    "cat1.meander()\n",
    "cat1.look()\n",
    "\n",
    "cat2.meow()\n",
    "cat2.meander()\n",
    "cat2.look()"
   ]
  },
  {
   "cell_type": "code",
   "execution_count": 6,
   "metadata": {},
   "outputs": [
    {
     "name": "stdout",
     "output_type": "stream",
     "text": [
      "The American bulldog named Flash is 6 years old now.\n",
      "The American bulldog named Flash is 7 years old now.\n"
     ]
    }
   ],
   "source": [
    "print(f\"The {dog1.breed} named {dog1.name} is {dog1.age} years old now.\")\n",
    "\n",
    "#add 1 to dog1's age\n",
    "dog1.age += 1\n",
    "#print the result\n",
    "print(f\"The {dog1.breed} named {dog1.name} is {dog1.age} years old now.\")\n"
   ]
  }
 ],
 "metadata": {
  "kernelspec": {
   "display_name": "Python 3",
   "language": "python",
   "name": "python3"
  },
  "language_info": {
   "codemirror_mode": {
    "name": "ipython",
    "version": 3
   },
   "file_extension": ".py",
   "mimetype": "text/x-python",
   "name": "python",
   "nbconvert_exporter": "python",
   "pygments_lexer": "ipython3",
   "version": "3.11.1"
  },
  "orig_nbformat": 4,
  "vscode": {
   "interpreter": {
    "hash": "b98627b2e811ab02f32452aa1b93bd5e321b1128d8a5112141e500b3e4b91562"
   }
  }
 },
 "nbformat": 4,
 "nbformat_minor": 2
}
